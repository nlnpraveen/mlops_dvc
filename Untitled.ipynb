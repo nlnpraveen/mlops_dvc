{
 "cells": [
  {
   "cell_type": "code",
   "execution_count": 1,
   "id": "0a497acc-4618-4d93-80ff-92dc30731caf",
   "metadata": {},
   "outputs": [
    {
     "data": {
      "text/plain": [
       "'C:\\\\Users\\\\nlnpr\\\\OneDrive\\\\Personal\\\\dev\\\\mlai\\\\krishnaik\\\\mlops_first_handson\\\\simple_app'"
      ]
     },
     "execution_count": 1,
     "metadata": {},
     "output_type": "execute_result"
    }
   ],
   "source": [
    "pwd"
   ]
  },
  {
   "cell_type": "code",
   "execution_count": 4,
   "id": "585b9084-600e-4e21-b6ed-f898ed052eff",
   "metadata": {},
   "outputs": [
    {
     "name": "stdout",
     "output_type": "stream",
     "text": [
      "http://localhost:1234\n"
     ]
    }
   ],
   "source": [
    "from src.get_data import read_params\n",
    "import argparse\n",
    "import mlflow\n",
    "from mlflow.tracking import MlflowClient\n",
    "from pprint import pprint\n",
    "import joblib\n",
    "import os\n",
    "\n",
    "#os.chdir('C:\\\\Users\\\\nlnpr\\\\OneDrive\\\\Personal\\\\dev\\\\mlai\\\\krishnaik\\\\mlops_first_handson\\\\simple_app\\\\notebooks')\n",
    "\n",
    "def log_production_model(config_path):\n",
    "    config = read_params(config_path)\n",
    "\n",
    "    mlflow_config = config[\"mlflow_config\"]     \n",
    "\n",
    "    model_name = mlflow_config[\"registered_model_name\"]\n",
    "\n",
    "    remote_server_uri = mlflow_config[\"remote_server_uri\"]\n",
    "\n",
    "    mlflow.set_tracking_uri(remote_server_uri)\n",
    "    print(remote_server_uri)\n",
    "\n",
    "    # runs = mlflow.search_runs(experiment_ids=4)\n",
    "    # lowest = runs[\"metrics.mae\"].sort_values(ascending=True)[0]\n",
    "    # lowest_run_id = runs[runs[\"metrics.mae\"] == lowest][\"run_id\"][0]\n",
    "\n",
    "    # client = MlflowClient()\n",
    "    # for mv in client.search_model_versions(f\"name='{model_name}'\"):\n",
    "    #     mv = dict(mv)\n",
    "    #     pprint(mv, indent=4)\n",
    "        \n",
    "        # if mv[\"run_id\"] == lowest_run_id:\n",
    "        #     current_version = mv[\"version\"]\n",
    "        #     logged_model = mv[\"source\"]\n",
    "        #     pprint(mv, indent=4)\n",
    "        #     client.transition_model_version_stage(\n",
    "        #         name=model_name,\n",
    "        #         version=current_version,\n",
    "        #         stage=\"Production\"\n",
    "        #     )\n",
    "        # else:\n",
    "        #     current_version = mv[\"version\"]\n",
    "        #     client.transition_model_version_stage(\n",
    "        #         name=model_name,\n",
    "        #         version=current_version,\n",
    "        #         stage=\"Staging\"\n",
    "        #     )\n",
    "\n",
    "log_production_model(\"params.yaml\")"
   ]
  }
 ],
 "metadata": {
  "kernelspec": {
   "display_name": "Python 3 (ipykernel)",
   "language": "python",
   "name": "python3"
  },
  "language_info": {
   "codemirror_mode": {
    "name": "ipython",
    "version": 3
   },
   "file_extension": ".py",
   "mimetype": "text/x-python",
   "name": "python",
   "nbconvert_exporter": "python",
   "pygments_lexer": "ipython3",
   "version": "3.11.9"
  }
 },
 "nbformat": 4,
 "nbformat_minor": 5
}
